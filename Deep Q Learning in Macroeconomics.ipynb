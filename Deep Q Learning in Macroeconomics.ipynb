{
 "cells": [
  {
   "cell_type": "markdown",
   "metadata": {},
   "source": [
    "# The Neoclassic Growth Model\n",
    "\n",
    "Lets make a program to solve the neoclassic growth model, because other people have too https://github.com/jesusfv/Comparison-Programming-Languages-Economics!  Its a benchmark model.\n",
    "\n",
    "But first lets review what the model looks like.  It involves a planner for the economy.  The planner faces a bread vs butter problem. She has some capital today.  She needs to decide how much capital society should consume today vs how much capital she should invest so people can consume tomorrow.\n",
    "\n",
    "Lets see it i| math!\n",
    "\n",
    "$$ \\max_{c_t, k_{t+1}} \\mathbb{E} \\sum_{t=0}^{\\inf} (1-\\beta)\\beta^t \\log{c_t}$$\n",
    "\n",
    "subject to\n",
    "\n",
    "$$c_t + k_{t+1} = z_tk_t^{\\alpha} + (1- \\delta)k_t$$ \n",
    "$k_t$ is societies capital at time $t$.  It deprecates at rate $\\delta$, and can be produced at $k_t^{\\alpha}$.  Since $\\alpha$ is smaller than 1, there are diminsihing returns.  You can never get to infinite capital. $z_t$ is the technology and evolves according to a markov transition matrix.\n",
    "\n",
    "The planner therefore needs to pick $c_t$ and $k_t$ in each period to maximize utility.\n"
   ]
  },
  {
   "cell_type": "markdown",
   "metadata": {
    "collapsed": true
   },
   "source": [
    "# Value Iteration Approach\n",
    "\n",
    "Aruoba and Fernández-Villaverde solve the problem using the Value Iteration: https://github.com/jesusfv/Comparison-Programming-Languages-Economics/blob/master/RBC_Python.py. That method is fast, converging to a solution in less than a second.\n",
    "\n",
    "But its also problematic.  The state space"
   ]
  },
  {
   "cell_type": "code",
   "execution_count": null,
   "metadata": {
    "collapsed": true
   },
   "outputs": [],
   "source": []
  }
 ],
 "metadata": {
  "anaconda-cloud": {},
  "kernelspec": {
   "display_name": "Python [Root]",
   "language": "python",
   "name": "Python [Root]"
  },
  "language_info": {
   "codemirror_mode": {
    "name": "ipython",
    "version": 3
   },
   "file_extension": ".py",
   "mimetype": "text/x-python",
   "name": "python",
   "nbconvert_exporter": "python",
   "pygments_lexer": "ipython3",
   "version": "3.5.2"
  }
 },
 "nbformat": 4,
 "nbformat_minor": 0
}
