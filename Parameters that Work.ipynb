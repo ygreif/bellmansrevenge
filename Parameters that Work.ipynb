{
 "cells": [
  {
   "cell_type": "code",
   "execution_count": 1,
   "metadata": {
    "collapsed": true,
    "deletable": true,
    "editable": true
   },
   "outputs": [],
   "source": [
    "%load_ext autoreload\n",
    "%autoreload 2"
   ]
  },
  {
   "cell_type": "code",
   "execution_count": 86,
   "metadata": {
    "collapsed": false,
    "deletable": true,
    "editable": true
   },
   "outputs": [
    {
     "name": "stdout",
     "output_type": "stream",
     "text": [
      "0.5 1.5\n",
      "0 > /home/ygreif/bellmansrevenge/policy/agent.py(51)episode()\n",
      "-> if action['c'] <= 0 or max_prod <= 0:\n",
      "(Pdb) original_action\n",
      "0.5822655\n",
      "(Pdb) action\n",
      "{'c': 0.6160622163786269}\n",
      "(Pdb) c\n",
      "> /home/ygreif/bellmansrevenge/policy/agent.py(50)episode()\n",
      "-> pdb.set_trace()\n",
      "(Pdb) action\n",
      "{'c': 0.49843683491548035}\n",
      "(Pdb) original_action\n",
      "0.4038944\n",
      "(Pdb) q\n"
     ]
    },
    {
     "ename": "BdbQuit",
     "evalue": "",
     "output_type": "error",
     "traceback": [
      "\u001b[0;31m---------------------------------------------------------------------------\u001b[0m",
      "\u001b[0;31mBdbQuit\u001b[0m                                   Traceback (most recent call last)",
      "\u001b[0;32m<ipython-input-86-c1a2a59f7135>\u001b[0m in \u001b[0;36m<module>\u001b[0;34m()\u001b[0m\n\u001b[1;32m     30\u001b[0m     \u001b[0mstrat\u001b[0m \u001b[0;34m=\u001b[0m \u001b[0magent\u001b[0m\u001b[0;34m.\u001b[0m\u001b[0mRelativeRangeStrat\u001b[0m\u001b[0;34m(\u001b[0m\u001b[0mlo\u001b[0m\u001b[0;34m=\u001b[0m\u001b[0;36m1.0\u001b[0m \u001b[0;34m-\u001b[0m \u001b[0;36m.5\u001b[0m \u001b[0;34m*\u001b[0m \u001b[0mweight\u001b[0m\u001b[0;34m,\u001b[0m \u001b[0mhi\u001b[0m\u001b[0;34m=\u001b[0m\u001b[0;36m1.0\u001b[0m \u001b[0;34m+\u001b[0m \u001b[0;36m.5\u001b[0m \u001b[0;34m*\u001b[0m \u001b[0mweight\u001b[0m\u001b[0;34m,\u001b[0m \u001b[0mmax_iters\u001b[0m\u001b[0;34m=\u001b[0m\u001b[0;36m40\u001b[0m\u001b[0;34m)\u001b[0m\u001b[0;34m\u001b[0m\u001b[0m\n\u001b[1;32m     31\u001b[0m     \u001b[0;32mprint\u001b[0m \u001b[0mstrat\u001b[0m\u001b[0;34m.\u001b[0m\u001b[0mlo\u001b[0m\u001b[0;34m,\u001b[0m \u001b[0mstrat\u001b[0m\u001b[0;34m.\u001b[0m\u001b[0mhi\u001b[0m\u001b[0;34m\u001b[0m\u001b[0m\n\u001b[0;32m---> 32\u001b[0;31m     \u001b[0;32mprint\u001b[0m \u001b[0mepisode\u001b[0m\u001b[0;34m,\u001b[0m \u001b[0ma\u001b[0m\u001b[0;34m.\u001b[0m\u001b[0mepisode\u001b[0m\u001b[0;34m(\u001b[0m\u001b[0mjesusfv\u001b[0m\u001b[0;34m,\u001b[0m \u001b[0mstrat\u001b[0m\u001b[0;34m)\u001b[0m\u001b[0;34m\u001b[0m\u001b[0m\n\u001b[0m\u001b[1;32m     33\u001b[0m     \u001b[0;32mif\u001b[0m \u001b[0mepisode\u001b[0m \u001b[0;34m%\u001b[0m \u001b[0;36m20\u001b[0m \u001b[0;34m==\u001b[0m \u001b[0;36m0\u001b[0m\u001b[0;34m:\u001b[0m\u001b[0;34m\u001b[0m\u001b[0m\n\u001b[1;32m     34\u001b[0m         \u001b[0mq\u001b[0m\u001b[0;34m.\u001b[0m\u001b[0mrenderBestA\u001b[0m\u001b[0;34m(\u001b[0m\u001b[0;34m)\u001b[0m\u001b[0;34m.\u001b[0m\u001b[0mshow\u001b[0m\u001b[0;34m(\u001b[0m\u001b[0;34m)\u001b[0m\u001b[0;34m\u001b[0m\u001b[0m\n",
      "\u001b[0;32m/home/ygreif/bellmansrevenge/policy/agent.py\u001b[0m in \u001b[0;36mepisode\u001b[0;34m(self, model, strat, state, train)\u001b[0m\n\u001b[1;32m     48\u001b[0m             \u001b[0maction\u001b[0m \u001b[0;34m=\u001b[0m \u001b[0;34m{\u001b[0m\u001b[0;34m'c'\u001b[0m\u001b[0;34m:\u001b[0m \u001b[0mstrat\u001b[0m\u001b[0;34m.\u001b[0m\u001b[0mexplore\u001b[0m\u001b[0;34m(\u001b[0m\u001b[0moriginal_action\u001b[0m\u001b[0;34m,\u001b[0m \u001b[0mmax_prod\u001b[0m\u001b[0;34m)\u001b[0m\u001b[0;34m}\u001b[0m\u001b[0;34m\u001b[0m\u001b[0m\n\u001b[1;32m     49\u001b[0m             \u001b[0;32mimport\u001b[0m \u001b[0mpdb\u001b[0m\u001b[0;34m\u001b[0m\u001b[0m\n\u001b[0;32m---> 50\u001b[0;31m             \u001b[0mpdb\u001b[0m\u001b[0;34m.\u001b[0m\u001b[0mset_trace\u001b[0m\u001b[0;34m(\u001b[0m\u001b[0;34m)\u001b[0m\u001b[0;34m\u001b[0m\u001b[0m\n\u001b[0m\u001b[1;32m     51\u001b[0m             \u001b[0;32mif\u001b[0m \u001b[0maction\u001b[0m\u001b[0;34m[\u001b[0m\u001b[0;34m'c'\u001b[0m\u001b[0;34m]\u001b[0m \u001b[0;34m<=\u001b[0m \u001b[0;36m0\u001b[0m \u001b[0;32mor\u001b[0m \u001b[0mmax_prod\u001b[0m \u001b[0;34m<=\u001b[0m \u001b[0;36m0\u001b[0m\u001b[0;34m:\u001b[0m\u001b[0;34m\u001b[0m\u001b[0m\n\u001b[1;32m     52\u001b[0m                 \u001b[0;32mreturn\u001b[0m \u001b[0;34m-\u001b[0m\u001b[0;36m999999\u001b[0m\u001b[0;34m\u001b[0m\u001b[0m\n",
      "\u001b[0;32m/home/ygreif/bellmansrevenge/policy/agent.py\u001b[0m in \u001b[0;36mepisode\u001b[0;34m(self, model, strat, state, train)\u001b[0m\n\u001b[1;32m     48\u001b[0m             \u001b[0maction\u001b[0m \u001b[0;34m=\u001b[0m \u001b[0;34m{\u001b[0m\u001b[0;34m'c'\u001b[0m\u001b[0;34m:\u001b[0m \u001b[0mstrat\u001b[0m\u001b[0;34m.\u001b[0m\u001b[0mexplore\u001b[0m\u001b[0;34m(\u001b[0m\u001b[0moriginal_action\u001b[0m\u001b[0;34m,\u001b[0m \u001b[0mmax_prod\u001b[0m\u001b[0;34m)\u001b[0m\u001b[0;34m}\u001b[0m\u001b[0;34m\u001b[0m\u001b[0m\n\u001b[1;32m     49\u001b[0m             \u001b[0;32mimport\u001b[0m \u001b[0mpdb\u001b[0m\u001b[0;34m\u001b[0m\u001b[0m\n\u001b[0;32m---> 50\u001b[0;31m             \u001b[0mpdb\u001b[0m\u001b[0;34m.\u001b[0m\u001b[0mset_trace\u001b[0m\u001b[0;34m(\u001b[0m\u001b[0;34m)\u001b[0m\u001b[0;34m\u001b[0m\u001b[0m\n\u001b[0m\u001b[1;32m     51\u001b[0m             \u001b[0;32mif\u001b[0m \u001b[0maction\u001b[0m\u001b[0;34m[\u001b[0m\u001b[0;34m'c'\u001b[0m\u001b[0;34m]\u001b[0m \u001b[0;34m<=\u001b[0m \u001b[0;36m0\u001b[0m \u001b[0;32mor\u001b[0m \u001b[0mmax_prod\u001b[0m \u001b[0;34m<=\u001b[0m \u001b[0;36m0\u001b[0m\u001b[0;34m:\u001b[0m\u001b[0;34m\u001b[0m\u001b[0m\n\u001b[1;32m     52\u001b[0m                 \u001b[0;32mreturn\u001b[0m \u001b[0;34m-\u001b[0m\u001b[0;36m999999\u001b[0m\u001b[0;34m\u001b[0m\u001b[0m\n",
      "\u001b[0;32m/usr/lib/python2.7/bdb.pyc\u001b[0m in \u001b[0;36mtrace_dispatch\u001b[0;34m(self, frame, event, arg)\u001b[0m\n\u001b[1;32m     47\u001b[0m             \u001b[0;32mreturn\u001b[0m \u001b[0;31m# None\u001b[0m\u001b[0;34m\u001b[0m\u001b[0m\n\u001b[1;32m     48\u001b[0m         \u001b[0;32mif\u001b[0m \u001b[0mevent\u001b[0m \u001b[0;34m==\u001b[0m \u001b[0;34m'line'\u001b[0m\u001b[0;34m:\u001b[0m\u001b[0;34m\u001b[0m\u001b[0m\n\u001b[0;32m---> 49\u001b[0;31m             \u001b[0;32mreturn\u001b[0m \u001b[0mself\u001b[0m\u001b[0;34m.\u001b[0m\u001b[0mdispatch_line\u001b[0m\u001b[0;34m(\u001b[0m\u001b[0mframe\u001b[0m\u001b[0;34m)\u001b[0m\u001b[0;34m\u001b[0m\u001b[0m\n\u001b[0m\u001b[1;32m     50\u001b[0m         \u001b[0;32mif\u001b[0m \u001b[0mevent\u001b[0m \u001b[0;34m==\u001b[0m \u001b[0;34m'call'\u001b[0m\u001b[0;34m:\u001b[0m\u001b[0;34m\u001b[0m\u001b[0m\n\u001b[1;32m     51\u001b[0m             \u001b[0;32mreturn\u001b[0m \u001b[0mself\u001b[0m\u001b[0;34m.\u001b[0m\u001b[0mdispatch_call\u001b[0m\u001b[0;34m(\u001b[0m\u001b[0mframe\u001b[0m\u001b[0;34m,\u001b[0m \u001b[0marg\u001b[0m\u001b[0;34m)\u001b[0m\u001b[0;34m\u001b[0m\u001b[0m\n",
      "\u001b[0;32m/usr/lib/python2.7/bdb.pyc\u001b[0m in \u001b[0;36mdispatch_line\u001b[0;34m(self, frame)\u001b[0m\n\u001b[1;32m     66\u001b[0m         \u001b[0;32mif\u001b[0m \u001b[0mself\u001b[0m\u001b[0;34m.\u001b[0m\u001b[0mstop_here\u001b[0m\u001b[0;34m(\u001b[0m\u001b[0mframe\u001b[0m\u001b[0;34m)\u001b[0m \u001b[0;32mor\u001b[0m \u001b[0mself\u001b[0m\u001b[0;34m.\u001b[0m\u001b[0mbreak_here\u001b[0m\u001b[0;34m(\u001b[0m\u001b[0mframe\u001b[0m\u001b[0;34m)\u001b[0m\u001b[0;34m:\u001b[0m\u001b[0;34m\u001b[0m\u001b[0m\n\u001b[1;32m     67\u001b[0m             \u001b[0mself\u001b[0m\u001b[0;34m.\u001b[0m\u001b[0muser_line\u001b[0m\u001b[0;34m(\u001b[0m\u001b[0mframe\u001b[0m\u001b[0;34m)\u001b[0m\u001b[0;34m\u001b[0m\u001b[0m\n\u001b[0;32m---> 68\u001b[0;31m             \u001b[0;32mif\u001b[0m \u001b[0mself\u001b[0m\u001b[0;34m.\u001b[0m\u001b[0mquitting\u001b[0m\u001b[0;34m:\u001b[0m \u001b[0;32mraise\u001b[0m \u001b[0mBdbQuit\u001b[0m\u001b[0;34m\u001b[0m\u001b[0m\n\u001b[0m\u001b[1;32m     69\u001b[0m         \u001b[0;32mreturn\u001b[0m \u001b[0mself\u001b[0m\u001b[0;34m.\u001b[0m\u001b[0mtrace_dispatch\u001b[0m\u001b[0;34m\u001b[0m\u001b[0m\n\u001b[1;32m     70\u001b[0m \u001b[0;34m\u001b[0m\u001b[0m\n",
      "\u001b[0;31mBdbQuit\u001b[0m: "
     ]
    }
   ],
   "source": [
    "import tensorflow as tf\n",
    "from params import model\n",
    "from qtable import naf\n",
    "from policy import agent\n",
    "from policy import samples\n",
    "from envs.economy import jesusfv\n",
    "\n",
    "%matplotlib inline\n",
    "\n",
    "params = {'naf': {'learningParameters': {'compress': True,\n",
    "                                'discount': 0.95,\n",
    "                                'learning_rate': 0.001},\n",
    "         'nnpParameters': {'hidden_layers': [5],\n",
    "                           'nonlinearity': tf.nn.tanh},\n",
    "         'nnqParameters': {'hidden_layers': [10],\n",
    "                           'nonlinearity': tf.nn.tanh},\n",
    "         'nnvParameters': {'hidden_layers': [200],\n",
    "                           'nonlinearity': tf.nn.tanh}},\n",
    " 'strat': {'hi': 1.5, 'lo': 0.5, 'max_iters': 40}}\n",
    " \n",
    "\n",
    "\n",
    "q = naf.SetupNAF.setup(jesusfv, **params['naf'])\n",
    "memory = samples.Samples(10000)\n",
    "a = agent.Agent(q, memory)\n",
    "\n",
    "strat = agent.RelativeRangeStrat(**params['strat'])\n",
    "for episode in range(500):\n",
    "    weight = 1.0 - episode / 501.0\n",
    "    strat = agent.RelativeRangeStrat(lo=1.0 - .5 * weight, hi=1.0 + .5 * weight, max_iters=40)\n",
    "    print strat.lo, strat.hi\n",
    "    print episode, a.episode(jesusfv, strat)\n",
    "    if episode % 20 == 0:\n",
    "        q.renderBestA().show()"
   ]
  },
  {
   "cell_type": "code",
   "execution_count": 3,
   "metadata": {
    "collapsed": false,
    "deletable": true,
    "editable": true
   },
   "outputs": [
    {
     "data": {
      "text/plain": [
       "<module 'matplotlib.pyplot' from '/home/ygreif/bellmansrevenge/venv/local/lib/python2.7/site-packages/matplotlib/pyplot.pyc'>"
      ]
     },
     "execution_count": 3,
     "metadata": {},
     "output_type": "execute_result"
    },
    {
     "data": {
      "image/png": "[encoded data removed]",
      "text/plain": [
       "<matplotlib.figure.Figure at 0x7f3fcc9a2710>"
      ]
     },
     "metadata": {},
     "output_type": "display_data"
    }
   ],
   "source": [
    "q.renderBestA()"
   ]
  },
  {
   "cell_type": "code",
   "execution_count": 228,
   "metadata": {
    "collapsed": false,
    "deletable": true,
    "editable": true,
    "scrolled": true
   },
   "outputs": [
    {
     "name": "stdout",
     "output_type": "stream",
     "text": [
      "{'k': 0.5725981281860099, 'z': 0}\n",
      "0 -20.0001431439\n",
      "Converged 0.29554498500959114\n"
     ]
    },
    {
     "data": {
      "image/png": "[encoded data removed]",
      "text/plain": [
       "<matplotlib.figure.Figure at 0x7f88ac5af610>"
      ]
     },
     "metadata": {},
     "output_type": "display_data"
    },
    {
     "name": "stdout",
     "output_type": "stream",
     "text": [
      "1 -20.1300326396\n",
      "2 -20.1049316569\n",
      "3 -19.924359912\n",
      "4 -20.5548524576\n",
      "5 -20.0231486673\n",
      "6 -20.1526905524\n",
      "7 -20.6590201827\n",
      "8 -19.9010650793\n",
      "9 -20.3456293767\n",
      "10 -20.1122458585\n",
      "11 -19.9923228829\n",
      "12 -20.2687840178\n",
      "13 -19.9003029478\n",
      "14 -19.9579759578\n",
      "15 -19.7327750674\n",
      "16 -20.3514121409\n",
      "17 -20.1219581242\n",
      "18 -19.9099000115\n",
      "19 -20.2991754524\n",
      "20 -19.9516820834\n",
      "21 -19.9844533711\n",
      "22 -19.7641797866\n",
      "23 -19.9306501454\n",
      "24 -19.9400718918\n",
      "25 -19.6420065594\n",
      "26 -20.4780471105\n",
      "27 -19.7969731372\n",
      "28 -19.9669696891\n",
      "29 -19.7900648128\n",
      "30 -20.3735890991\n",
      "31 -20.1482500798\n",
      "32 -19.7929530187\n",
      "33 -20.149718386\n",
      "34 -20.2921156244\n",
      "35 -20.4526534616\n",
      "36 -19.6779261017\n",
      "37 -19.9764625846\n",
      "38 -20.449851034\n",
      "39 -20.0319238853\n",
      "40 -20.1201802521\n",
      "41 -19.6532566525\n",
      "42 -20.0854355438\n",
      "43 -20.1728027261\n",
      "44 -20.298487099\n",
      "45 -20.303978568\n",
      "46 -20.3040114954\n",
      "47 -19.9112033722\n",
      "48 -19.8397503302\n",
      "49 -20.0162538229\n",
      "50 -19.7092959108\n",
      "51 -20.0312935516\n",
      "52 -20.6694940863\n",
      "53 -19.8394988551\n",
      "54 -19.4305117732\n",
      "55 -20.1105895223\n",
      "56 -20.0109752399\n",
      "57 -20.042093693\n",
      "58 -20.1198842339\n",
      "59 -19.6437862893\n",
      "60 -19.6666299708\n",
      "61 -20.4304151357\n",
      "62 -19.792406993\n",
      "63 -19.817523552\n",
      "64 -19.9597016292\n",
      "65 -20.1030440329\n",
      "66 -19.8091617068\n",
      "67 -20.1841983608\n",
      "68 -20.1576897167\n",
      "69 -19.8167802112\n",
      "70 -20.0853791697\n",
      "71 -19.9696331949\n",
      "72 -19.830892662\n",
      "73 -20.2161370798\n",
      "74 -20.0497156457\n",
      "75 -19.9841532415\n",
      "76 -19.7823860352\n",
      "77 -19.8165066388\n",
      "78 -19.8352108282\n",
      "79 -20.1267836356\n",
      "80 -19.7457502963\n",
      "81 -19.9964575971\n",
      "82 -20.1100780316\n",
      "83 -19.5655813327\n",
      "84 -20.0247861348\n",
      "85 -20.5303423748\n",
      "86 -20.160264707\n",
      "87 -19.9947836521\n",
      "88 -19.8776523641\n",
      "89 -19.805133791\n",
      "90 -20.5171749268\n",
      "91 -19.8523956563\n",
      "92 -19.6585130888\n",
      "93 -20.2410496476\n",
      "94 -20.2169653568\n",
      "95 -20.042778134\n",
      "96 -20.1258780244\n",
      "97 -20.0494448769\n",
      "98 -20.0210409918\n",
      "99 -19.796401798\n",
      "100 -20.245117704\n",
      "Converged 0.31193758542479927\n"
     ]
    },
    {
     "data": {
      "image/png": "[encoded data removed]",
      "text/plain": [
       "<matplotlib.figure.Figure at 0x7f88a91cd4d0>"
      ]
     },
     "metadata": {},
     "output_type": "display_data"
    },
    {
     "name": "stdout",
     "output_type": "stream",
     "text": [
      "101 -19.9527603786\n",
      "102 -20.1321658826\n",
      "103 -19.7956741533\n",
      "104 -20.2542189452\n",
      "105 -19.9347266856\n",
      "106 -20.0422964685\n",
      "107 -19.7177121626\n",
      "108 -20.5131527329\n",
      "109 -20.0543331392\n",
      "110 -20.1306789707\n",
      "111 -20.0174345952\n",
      "112 -20.1125655262\n",
      "113 -20.0540622067\n",
      "114 -20.0083908838\n",
      "115 -20.2532300315\n",
      "116 -19.9344171083\n",
      "117 -19.8900019853\n",
      "118 -20.2134210684\n",
      "119 -19.810015287\n",
      "120 -20.011204767\n",
      "121 -20.0334792924\n",
      "122 -19.7878061046\n",
      "123 -20.3662490535\n",
      "124 -19.7197183904\n",
      "125 -20.0479592955\n",
      "126 -20.0977426033\n",
      "127 -20.0354857697\n",
      "128 -19.9213536468\n",
      "129 -20.2130594021\n",
      "130 -20.056183779\n",
      "131 -19.9518268462\n",
      "132 -20.1180829901\n",
      "133 -20.1559568317\n",
      "134 -19.8017730009\n",
      "135 -19.8167972002\n",
      "136 -19.7227440796\n",
      "137 -20.2066384957\n",
      "138 -20.0973687982\n",
      "139 -19.9599507406\n",
      "140 -19.9738687725\n",
      "141 -20.1859874744\n",
      "142 -19.4454328699\n",
      "143 -19.9408344721\n",
      "144 -19.7539600355\n",
      "145 -19.9421104723\n",
      "146 -19.9161843266\n",
      "147 -20.4672468682\n",
      "148 -19.7418122987\n",
      "149 -19.8428623858\n",
      "150 -20.0586775514\n",
      "151 -20.0466782301\n",
      "152 -19.9440308771\n",
      "153 -20.0355652906\n",
      "154 -19.7368999479\n",
      "155 -19.8423073395\n",
      "156 -20.244820142\n",
      "157 -20.0110271355\n",
      "158 -20.1875607673\n",
      "159 -20.083009456\n",
      "160 -19.8129231842\n",
      "161 -20.0029010263\n",
      "162 -20.4757752691\n",
      "163 -20.3868397845\n",
      "164 -20.2212509283\n",
      "165 -19.3817219\n",
      "166 -20.5998325787\n",
      "167 -20.0496922911\n",
      "168 -19.9797222918\n",
      "169 -20.1206233287\n",
      "170 -20.3264997969\n",
      "171 -20.2176486196\n",
      "172 -20.2634852018\n",
      "173 -19.8976754761\n",
      "174 -20.4173024234\n",
      "175 -20.1775359701\n",
      "176 -20.2770222564\n",
      "177 -19.9460395185\n",
      "178 -20.0840575999\n",
      "179 -20.2044193674\n",
      "180 -19.8515853654\n",
      "181 -20.1784077168\n",
      "182 -20.1973145787\n",
      "183 -19.8338577973\n",
      "184 -20.3144424519\n",
      "185 -20.6469898322\n",
      "186 -19.9468895354\n",
      "187 -19.6576680344\n",
      "188 -19.8876951399\n",
      "189 -20.362607933\n",
      "190 -19.7161310347\n",
      "191 -19.9054891238\n",
      "192 -19.8649198571\n",
      "193 -19.6547493259\n",
      "194 -20.219513879\n",
      "195 -19.7963164649\n",
      "196 -19.9118478584\n",
      "197 -19.9562962418\n",
      "198 -20.1809917012\n",
      "199 -20.1768923419\n",
      "200 -19.7179903514\n",
      "Converged 0.3072777501221641\n"
     ]
    },
    {
     "data": {
      "image/png": "[encoded data removed]",
      "text/plain": [
       "<matplotlib.figure.Figure at 0x7f88ae442d50>"
      ]
     },
     "metadata": {},
     "output_type": "display_data"
    },
    {
     "name": "stdout",
     "output_type": "stream",
     "text": [
      "201 -20.0017456521\n",
      "202 -19.7175304919\n",
      "203 -19.6761098022\n",
      "204 -19.7828083104\n",
      "205 -20.2898594999\n",
      "206 -20.0937802814\n",
      "207 -20.1451231318\n",
      "208 -20.000113747\n",
      "209 -20.0732010807\n",
      "210 -20.0043831872\n",
      "211 -19.9617006808\n",
      "212 -20.1047191491\n",
      "213 -19.9210370871\n",
      "214 -19.8238564272\n",
      "215 -20.2297874616\n",
      "216 -19.6376493916\n",
      "217 -19.664996754\n",
      "218 -19.85227142\n",
      "219 -20.4265739747\n",
      "220 -19.806244632\n",
      "221 -20.2496220565\n",
      "222 -19.9037884059\n",
      "223 -20.0977213411\n",
      "224 -20.4223049471\n",
      "225 -20.2474364801\n",
      "226 -19.9231484664\n",
      "227 -20.0674987781\n",
      "228 -20.1566528466\n",
      "229 -20.0960504635\n",
      "230 -19.8486161703\n",
      "231 -20.1202357941\n",
      "232 -19.5080967382\n",
      "233 -20.0379034331\n",
      "234 -20.300803141\n",
      "235 -19.879209484\n",
      "236 -20.077025303\n",
      "237 -19.8637404969\n",
      "238 -19.8098541704\n",
      "239 -20.3220407577\n",
      "240 -19.8976878366\n",
      "241 -19.8606920234\n",
      "242 -20.3420224388\n",
      "243 -19.885130969\n",
      "244 -19.8275826199\n",
      "245 -19.7371735482\n",
      "246 -19.9745587889\n",
      "247 -20.0601546743\n",
      "248 -20.0016691663\n",
      "249 -19.9985360156\n",
      "250 -19.9971550322\n",
      "251 -20.3095007602\n",
      "252 -19.8923364379\n",
      "253 -19.9793454184\n",
      "254 -20.026264075\n",
      "255 -19.9853062548\n",
      "256 -20.1874625891\n",
      "257 -20.2309175422\n",
      "258 -20.146274805\n",
      "259 -20.2833560875\n",
      "260 -19.9519432002\n",
      "261 -19.8226746701\n",
      "262 -19.7225343531\n",
      "263 -20.4677926433\n",
      "264 -20.0191999906\n",
      "265 -20.2114730841\n",
      "266 -19.7895580327\n",
      "267 -19.8471665952\n",
      "268 -19.9024402934\n",
      "269 -19.7841889355\n",
      "270 -19.9998863497\n",
      "271 -20.2211589907\n",
      "272 -20.1785996438\n",
      "273 -20.3657593235\n",
      "274 -19.8530700724\n",
      "275 -19.9731910617\n",
      "276 -20.0234018564\n",
      "277 -20.2498649289\n",
      "278 -20.0149758983\n",
      "279 -20.3472426781\n",
      "280 -19.9523257142\n",
      "281 -20.1521110196\n",
      "282 -20.0637553752\n",
      "283 -20.0414045516\n",
      "284 -19.894366016\n",
      "285 -19.9201831689\n",
      "286 -20.0580962354\n",
      "287 -19.5037313134\n",
      "288 -19.5867011804\n",
      "289 -20.3699793672\n",
      "290 -20.2168180309\n",
      "291 -19.8684738589\n",
      "292 -19.8914795081\n",
      "293 -19.9211224808\n",
      "294 -19.5958550161\n",
      "295 -20.0109114115\n",
      "296 -19.9825600933\n",
      "297 -20.3617256041\n",
      "298 -19.8649065732\n",
      "299 -19.9273509788\n",
      "300 -19.6725366441\n",
      "Converged 0.29962885624108426\n"
     ]
    },
    {
     "data": {
      "image/png": "[encoded data removed]",
      "text/plain": [
       "<matplotlib.figure.Figure at 0x7f88bf6a5510>"
      ]
     },
     "metadata": {},
     "output_type": "display_data"
    },
    {
     "name": "stdout",
     "output_type": "stream",
     "text": [
      "301 -19.8028271987\n",
      "302 -19.7087784394\n",
      "303 -19.9327181302\n",
      "304 -19.6250272311\n",
      "305 -19.7421603601\n",
      "306 -20.1589482263\n",
      "307 -19.9386444434\n",
      "308 -20.1355490461\n",
      "309 -19.9570638612\n",
      "310 -20.393249655\n",
      "311 -20.1658594117\n",
      "312 -20.0947601539\n",
      "313 -19.9426592024\n",
      "314 -20.0429464502\n",
      "315 -19.7660880326\n",
      "316 -19.9126578876\n",
      "317 -19.8499632412\n",
      "318 -19.953251243\n",
      "319 -20.0571264562\n",
      "320 -20.1123485246\n",
      "321 -20.1910550258\n",
      "322 -20.1957115876\n",
      "323 -20.3354403095\n",
      "324 -20.2784439835\n",
      "325 -19.7976466529\n",
      "326 -19.9704043879\n",
      "327 -19.8174213667\n",
      "328 -20.0825576097\n",
      "329 -20.2095347212\n",
      "330 -19.8524964549\n",
      "331 -20.1746354313\n",
      "332 -20.0545219514\n",
      "333 -20.0701757134\n",
      "334 -30.1146255845\n",
      "335 -20.2804305498\n",
      "336 -20.1675433295\n",
      "337 -20.3961508863\n",
      "338 -20.081038224\n",
      "339 -19.8549880756\n",
      "340 -20.1367538471\n",
      "341 -20.3313649782\n",
      "342 -20.5021875222\n",
      "343 -20.2131048009\n",
      "344 -20.1058726303\n",
      "345 -20.0544114635\n",
      "346 -19.7083818668\n",
      "347 -19.6622657133\n",
      "348 -20.375289813\n",
      "349 -19.8229839576\n",
      "350 -19.9701017101\n",
      "351 -19.8450243853\n",
      "352 -19.6712310089\n",
      "353 -20.2611162219\n",
      "354 -20.4140613974\n",
      "355 -19.8300695154\n",
      "356 -20.471368746\n",
      "357 -20.0867521333\n",
      "358 -20.0211149633\n",
      "359 -20.0067624486\n",
      "360 -19.9464830732\n",
      "361 -19.6130812065\n",
      "362 -20.1066234205\n",
      "363 -20.0304973986\n",
      "364 -20.0496970805\n",
      "365 -20.0858576408\n",
      "366 -20.1680349138\n",
      "367 -20.201084433\n",
      "368 -19.7875214686\n",
      "369 -20.0868119919\n",
      "370 -19.5738395667\n",
      "371 -20.0089245984\n",
      "372 -19.9218619484\n",
      "373 -20.4151888755\n",
      "374 -20.1296203176\n",
      "375 -20.0417269308\n",
      "376 -20.1863367411\n",
      "377 -19.9238087578\n",
      "378 -20.1291028425\n",
      "379 -19.7205691332\n",
      "380 -19.8034529703\n",
      "381 -19.8621051825\n",
      "382 -19.7573707298\n",
      "383 -20.1464615357\n",
      "384 -20.2786909603\n",
      "385 -30.0385619879\n",
      "386 -19.3767483595\n",
      "387 -18.7537946542\n",
      "388 -18.7701955584\n",
      "389 -18.7288055583\n",
      "390 -19.0640802473\n",
      "391 -19.0429572596\n",
      "392 -19.0115337407\n",
      "393 -18.9768443383\n",
      "394 -19.0426803893\n",
      "395 -18.8693008888\n",
      "396 -19.0544365192\n",
      "397 -18.9709984435\n",
      "398 -19.0003698108\n",
      "399 -19.0529037649\n",
      "400 -19.0178722384\n",
      "Converged 0.008573584222467616\n"
     ]
    },
    {
     "data": {
      "image/png": "[encoded data removed]",
      "text/plain": [
       "<matplotlib.figure.Figure at 0x7f88a91f8ad0>"
      ]
     },
     "metadata": {},
     "output_type": "display_data"
    },
    {
     "name": "stdout",
     "output_type": "stream",
     "text": [
      "401 -19.0139415752\n",
      "402 -18.9895765773\n",
      "403 -18.8149256944\n",
      "404 -19.0386490883\n",
      "405 -19.0409804262\n",
      "406 -19.0342057618\n",
      "407 -19.0588214729\n",
      "408 -18.79570019\n",
      "409 -18.8720763804\n",
      "410 -19.0576204413\n",
      "411 -18.9043674318\n",
      "412 -18.9849939381\n",
      "413 -18.9934448285\n",
      "414 -19.0557539982\n",
      "415 -19.0447615211\n",
      "416 -18.9786913299\n",
      "417 -19.0504621239\n",
      "418 -19.0128709185\n",
      "419 -19.0345771898\n",
      "420 -18.8263809573\n",
      "421 -19.034796752\n",
      "422 -18.9462362483\n",
      "423 -18.6411706225\n",
      "424 -18.8974256404\n",
      "425 -18.8094619176\n",
      "426 -19.0510862155\n",
      "427 -19.0595284822\n",
      "428 -19.0404666936\n",
      "429 -19.0521524446\n",
      "430 -18.8272406032\n",
      "431 -19.0531158721\n",
      "432 -18.9998947928\n",
      "433 -18.9721467948\n",
      "434 -18.8820881395\n",
      "435 -19.0092069201\n",
      "436 -19.0386842634\n",
      "437 -19.0584913769\n",
      "438 -19.0358552685\n",
      "439 -18.8126425819\n",
      "440 -18.7698130501\n",
      "441 -18.9345097071\n",
      "442 -19.0220696025\n",
      "443 -18.8074223725\n",
      "444 -18.7694625989\n",
      "445 -18.8086660834\n",
      "446 -18.7626509626\n",
      "447 -18.8382495205\n",
      "448 -18.9535377711\n",
      "449 -18.8223251399\n",
      "450 -18.9298721643\n",
      "451 -18.970214256\n",
      "452 -18.9395633154\n",
      "453 -18.9328686238\n",
      "454 -18.9748672447\n",
      "455 -19.0563265476\n",
      "456 -18.9963001324\n",
      "457 -19.056649535\n",
      "458 -18.8361765652\n",
      "459 -18.909846024\n",
      "460 -18.966219414\n",
      "461 -19.0145494721\n",
      "462 -19.027471565\n",
      "463 -18.7731287041\n",
      "464 -18.757519165\n",
      "465 -18.8329166164\n",
      "466 -18.9028820797\n",
      "467 -19.0568291834\n",
      "468 -18.919382095\n",
      "469 -19.0630603244\n",
      "470 -18.8892727454\n",
      "471 -18.9655734971\n",
      "472 -19.0510872356\n",
      "473 -19.0602819335\n",
      "474 -19.0535030384\n",
      "475 -18.8257734021\n",
      "476 -18.9145434233\n",
      "477 -18.6210406671\n",
      "478 -18.9500853152\n",
      "479 -19.008417122\n",
      "480 -18.6280090653\n",
      "481 -18.8238644548\n",
      "482 -19.0010015123\n",
      "483 -18.8081551597\n",
      "484 -19.0610650486\n",
      "485 -18.9510023193\n",
      "486 -18.9654446617\n",
      "487 -18.8835497895\n",
      "488 -18.8076130461\n",
      "489 -19.026488162\n",
      "490 -18.8105113652\n",
      "491 -18.7651965382\n",
      "492 -18.9865332233\n",
      "493 -18.9921712883\n",
      "494 -18.9573194624\n",
      "495 -19.0201861683\n",
      "496 -19.0267694284\n",
      "497 -18.7413649355\n",
      "498 -19.0216437873\n",
      "499 -18.829875527\n",
      "500 -18.9931625986\n",
      "Converged 0.009970968995476141\n"
     ]
    },
    {
     "data": {
      "image/png": "[encoded data removed]",
      "text/plain": [
       "<matplotlib.figure.Figure at 0x7f88bad07650>"
      ]
     },
     "metadata": {},
     "output_type": "display_data"
    },
    {
     "name": "stdout",
     "output_type": "stream",
     "text": [
      "501 -19.0442265791\n",
      "502 -18.9040136336\n",
      "503 -19.0429072403\n",
      "504 -19.0391030823\n",
      "505 -18.8578294432\n",
      "506 -19.0453659586\n",
      "507 -18.9823419014\n",
      "508 -19.0354865427\n",
      "509 -19.045509525\n",
      "510 -19.0474618912\n",
      "511 -18.9291158026\n",
      "512 -19.0533958479\n",
      "513 -19.0477802999\n",
      "514 -18.8428556032\n",
      "515 -18.9286655872\n",
      "516 -18.7822814582\n",
      "517 -18.8098419524\n",
      "518 -18.999333977\n",
      "519 -19.000597977\n",
      "520 -18.9756226845\n",
      "521 -18.9605209979\n",
      "522 -19.0415998911\n",
      "523 -19.0462088731\n",
      "524 -19.0376411272\n",
      "525 -18.8969354563\n",
      "526 -18.8097797051\n",
      "527 -19.0452000482\n",
      "528 -18.8714065597\n",
      "529 -18.9930994738\n",
      "530 -18.7452778695\n",
      "531 -18.861338304\n",
      "532 -19.0444735423\n",
      "533 -19.0617331622\n",
      "534 -19.0291860294\n",
      "535 -19.0769704997\n",
      "536 -18.8762003252\n",
      "537 -19.0502906772\n",
      "538 -18.9046061521\n",
      "539 -19.0541482379\n",
      "540 -19.0504071894\n",
      "541 -19.0469019932\n",
      "542 -19.0231303149\n",
      "543 -18.9098016471\n",
      "544 -18.94005744\n",
      "545 -18.7990986103\n",
      "546 -19.0537826572\n",
      "547 -19.0076261711\n",
      "548 -18.901780681\n",
      "549 -18.9657813403\n",
      "550 -18.8567767057\n",
      "551 -18.9639133728\n",
      "552 -19.0610137629\n",
      "553 -18.8730521092\n",
      "554 -19.0484930915\n",
      "555 -18.7941902882\n",
      "556 -19.0434042891\n",
      "557 -19.0378683337\n",
      "558 -18.5249290834\n",
      "559 -19.0329137767\n",
      "560 -19.0680291425\n",
      "561 -19.0343734804\n",
      "562 -18.9786382794\n",
      "563 -18.7739453313\n",
      "564 -19.0370314802\n",
      "565 -18.9739434363\n",
      "566 -19.0704109891\n",
      "567 -19.0216275298\n",
      "568 -18.7620111078\n",
      "569 -18.9277811621\n",
      "570 -19.1172995675\n",
      "571 -18.4348631164\n",
      "572 -19.0447371895\n",
      "573 -19.2364360982\n",
      "574 -18.9906332644\n",
      "575 -19.2971321294\n",
      "576 -18.7428683115\n",
      "577 -19.1627669649\n",
      "578 -18.9648732997\n",
      "579 -18.931365779\n",
      "580 -19.0190767745\n",
      "581 -18.8691476681\n",
      "582 -19.0391696845\n",
      "583 -19.0141262498\n",
      "584 -18.5973094723\n",
      "585 -18.9021142741\n",
      "586 -18.896808724\n",
      "587 -19.0782876797\n",
      "588 -19.0066272027\n",
      "589 -19.0574917528\n",
      "590 -19.0426488325\n",
      "591 -18.7990715472\n",
      "592 -19.2835837766\n",
      "593 -18.7839720988\n",
      "594 -19.0490369221\n",
      "595 -18.8734397983\n",
      "596 -20.0649506677\n",
      "597 -19.3240280723\n",
      "598 -19.0682119616\n",
      "599 -19.0153524763\n"
     ]
    }
   ],
   "source": [
    "import tensorflow as tf\n",
    "\n",
    "from params import model\n",
    "from qtable import naf\n",
    "from policy import agent\n",
    "from policy import samples\n",
    "from envs.economy import jesusfv\n",
    "from policy import diagnostics\n",
    "\n",
    "\n",
    "%matplotlib inline\n",
    "\n",
    "params = {'naf': {'learningParameters': {'compress': True,\n",
    "                                'discount': 0.95,\n",
    "                                'learning_rate': 0.01,\n",
    "                                 },\n",
    "         'nnpParameters': {'hidden_layers': [5],\n",
    "                           'nonlinearity': tf.nn.tanh},\n",
    "         'nnqParameters': {'hidden_layers': [10, 10],\n",
    "                           'nonlinearity': tf.nn.tanh},\n",
    "         'nnvParameters': {'hidden_layers': [200],\n",
    "                           'nonlinearity': tf.nn.tanh}},\n",
    " 'strat': {'hi': 1.5, 'lo': 0.5, 'max_iters': 40}}\n",
    " \n",
    "q = naf.SetupNAF.setup(jesusfv, **params['naf'])\n",
    "init_state = jesusfv.sample_state()\n",
    "init_state = {'k': 0.5725981281860099, 'z': 0}\n",
    "print init_state\n",
    "memory = samples.Samples(10000)\n",
    "a = agent.Agent(q, memory)\n",
    "n_episodes = 600\n",
    "strat = agent.RelativeRangeStrat(**params['strat'])\n",
    "for episode in range(600):\n",
    "    weight = 1.0 - episode / (n_episodes + 1.0)\n",
    "    strat = agent.RelativeRangeStrat(lo=1.0 - 1.0 * weight, hi=1.0 + 1.0 * weight, max_iters=100, minibatch_size=1000)\n",
    "    print episode, a.episode(jesusfv, strat, state=init_state)\n",
    "    if episode % 100 == 0:\n",
    "        c = diagnostics.convergence(q, memory, 100)\n",
    "        print \"Converged\", c\n",
    "        q.renderBestA().show()\n",
    "        if c and c < .005:\n",
    "            break"
   ]
  },
  {
   "cell_type": "code",
   "execution_count": 229,
   "metadata": {
    "collapsed": false,
    "deletable": true,
    "editable": true,
    "scrolled": false
   },
   "outputs": [
    {
     "data": {
      "text/plain": [
       "<module 'matplotlib.pyplot' from '/home/ygreif/bellmansrevenge/venv/local/lib/python2.7/site-packages/matplotlib/pyplot.pyc'>"
      ]
     },
     "execution_count": 229,
     "metadata": {},
     "output_type": "execute_result"
    },
    {
     "data": {
      "image/png": "[encoded data removed]",
      "text/plain": [
       "<matplotlib.figure.Figure at 0x7f88b1d56c90>"
      ]
     },
     "metadata": {},
     "output_type": "display_data"
    }
   ],
   "source": [
    "q.renderBestA()"
   ]
  },
  {
   "cell_type": "code",
   "execution_count": 230,
   "metadata": {
    "collapsed": false,
    "deletable": true,
    "editable": true,
    "scrolled": true
   },
   "outputs": [
    {
     "data": {
      "text/plain": [
       "0.03095282087495434"
      ]
     },
     "execution_count": 230,
     "metadata": {},
     "output_type": "execute_result"
    }
   ],
   "source": [
    "diagnostics.convergence(q, memory, 200, init_state)"
   ]
  },
  {
   "cell_type": "code",
   "execution_count": 231,
   "metadata": {
    "collapsed": false,
    "deletable": true,
    "editable": true,
    "scrolled": true
   },
   "outputs": [
    {
     "data": {
      "text/plain": [
       "0.02434236285224711"
      ]
     },
     "execution_count": 231,
     "metadata": {},
     "output_type": "execute_result"
    }
   ],
   "source": [
    "from policy import diagnostics\n",
    "diagnostics.euler_error(q, jesusfv, 100, init_state)"
   ]
  },
  {
   "cell_type": "code",
   "execution_count": 145,
   "metadata": {
    "collapsed": false,
    "deletable": true,
    "editable": true
   },
   "outputs": [
    {
     "data": {
      "text/plain": [
       "{'k': 0.5725981281860099, 'z': 0}"
      ]
     },
     "execution_count": 145,
     "metadata": {},
     "output_type": "execute_result"
    }
   ],
   "source": [
    "init_state"
   ]
  },
  {
   "cell_type": "code",
   "execution_count": 232,
   "metadata": {
    "collapsed": false,
    "deletable": true,
    "editable": true
   },
   "outputs": [
    {
     "data": {
      "text/plain": [
       "-1.6197887582883939"
      ]
     },
     "execution_count": 232,
     "metadata": {},
     "output_type": "execute_result"
    }
   ],
   "source": [
    "import math\n",
    "math.log(.024, 10)"
   ]
  },
  {
   "cell_type": "code",
   "execution_count": 141,
   "metadata": {
    "collapsed": false,
    "deletable": true,
    "editable": true
   },
   "outputs": [
    {
     "data": {
      "text/plain": [
       "0.0"
      ]
     },
     "execution_count": 141,
     "metadata": {},
     "output_type": "execute_result"
    }
   ],
   "source": [
    "math.log(1, 10)"
   ]
  },
  {
   "cell_type": "code",
   "execution_count": 138,
   "metadata": {
    "collapsed": false,
    "deletable": true,
    "editable": true
   },
   "outputs": [
    {
     "name": "stdout",
     "output_type": "stream",
     "text": [
      "Help on built-in function log in module math:\n",
      "\n",
      "log(...)\n",
      "    log(x[, base])\n",
      "    \n",
      "    Return the logarithm of x to the given base.\n",
      "    If the base not specified, returns the natural logarithm (base e) of x.\n",
      "\n"
     ]
    }
   ],
   "source": [
    "help(math.log)"
   ]
  },
  {
   "cell_type": "code",
   "execution_count": null,
   "metadata": {
    "collapsed": true,
    "deletable": true,
    "editable": true
   },
   "outputs": [],
   "source": []
  }
 ],
 "metadata": {
  "kernelspec": {
   "display_name": "Python 2",
   "language": "python",
   "name": "python2"
  },
  "language_info": {
   "codemirror_mode": {
    "name": "ipython",
    "version": 2
   },
   "file_extension": ".py",
   "mimetype": "text/x-python",
   "name": "python",
   "nbconvert_exporter": "python",
   "pygments_lexer": "ipython2",
   "version": "2.7.6"
  }
 },
 "nbformat": 4,
 "nbformat_minor": 2
}
